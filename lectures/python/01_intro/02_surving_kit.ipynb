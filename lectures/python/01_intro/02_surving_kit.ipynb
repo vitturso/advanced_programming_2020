{
 "cells": [
  {
   "cell_type": "markdown",
   "metadata": {},
   "source": [
    "## Python surviving kit\n",
    " - `print`\n",
    " - `type`\n",
    " - `help`\n",
    " - `dir` \n",
    " - `is` (or `id`) (checking identity)\n",
    " - `==` (checking equality)\n",
    " - arithmetic operators\n",
    " - control flow\n",
    " - loops"
   ]
  },
  {
   "cell_type": "code",
   "execution_count": null,
   "metadata": {},
   "outputs": [],
   "source": [
    "print(\"hello\", \"world\")"
   ]
  },
  {
   "cell_type": "code",
   "execution_count": null,
   "metadata": {},
   "outputs": [],
   "source": [
    "print(type(\"hello\"))\n",
    "print(type(1))\n",
    "print(type(True))"
   ]
  },
  {
   "cell_type": "code",
   "execution_count": null,
   "metadata": {},
   "outputs": [],
   "source": [
    "help(1)"
   ]
  },
  {
   "cell_type": "code",
   "execution_count": null,
   "metadata": {},
   "outputs": [],
   "source": [
    "help(None)"
   ]
  },
  {
   "cell_type": "code",
   "execution_count": null,
   "metadata": {},
   "outputs": [],
   "source": [
    "IIII = 1\n",
    "FFFF = 3.3\n",
    "SSSS = \"cc\"\n",
    "BBBB = False\n",
    "\n",
    "print(dir())"
   ]
  },
  {
   "cell_type": "code",
   "execution_count": null,
   "metadata": {},
   "outputs": [],
   "source": [
    "print(dir(1))"
   ]
  },
  {
   "cell_type": "markdown",
   "metadata": {},
   "source": [
    "### Variables are labels, objects are boxes, and you should read left to right"
   ]
  },
  {
   "cell_type": "code",
   "execution_count": null,
   "metadata": {},
   "outputs": [],
   "source": [
    "a = 3\n",
    "b = a\n",
    "print(id(a), id(b))\n",
    "print(a is b)"
   ]
  },
  {
   "cell_type": "code",
   "execution_count": null,
   "metadata": {},
   "outputs": [],
   "source": [
    "a = 4\n",
    "a is not b"
   ]
  },
  {
   "cell_type": "code",
   "execution_count": null,
   "metadata": {},
   "outputs": [],
   "source": [
    "a = [1, 2, 3]\n",
    "b = a\n",
    "print(a is b)\n",
    "a.append(5)\n",
    "print(b)"
   ]
  },
  {
   "cell_type": "code",
   "execution_count": null,
   "metadata": {},
   "outputs": [],
   "source": [
    "a = [1, 2, 3]\n",
    "b = [1, 2, 3]\n",
    "print(a is b)\n",
    "print(a == b)"
   ]
  },
  {
   "cell_type": "markdown",
   "metadata": {},
   "source": [
    "### Arithmetic operators"
   ]
  },
  {
   "cell_type": "code",
   "execution_count": null,
   "metadata": {},
   "outputs": [],
   "source": [
    "a = 3\n",
    "b = 5\n",
    "print(\"a + b =\", a + b)\n",
    "print(\"a - b =\", a - b)\n",
    "print(\"a * b =\", a * b)\n",
    "print(\"a / b =\", a / b)\n",
    "print(\"a // b =\", a // b)\n",
    "print(\"a % b =\", a % b)  # remainder"
   ]
  },
  {
   "cell_type": "markdown",
   "metadata": {},
   "source": [
    "### Control flow\n",
    "- `if`, `elif`, `else` \n",
    "\n",
    "``` python\n",
    "if <condition1>:\n",
    "    <body>\n",
    "elif <condition2>:\n",
    "    <body>\n",
    "else:\n",
    "    <body>\n",
    "```\n",
    "\n",
    "- `==`\n",
    "- `!=`\n",
    "- `<`\n",
    "- `>`\n",
    "- `<=`\n",
    "- `>=`\n",
    "- `and`\n",
    "- `not`\n",
    "- `or`\n"
   ]
  },
  {
   "cell_type": "code",
   "execution_count": null,
   "metadata": {},
   "outputs": [],
   "source": [
    "color = \"green\"\n",
    "if color == \"blue\" or color == \"green\":\n",
    "    print(\"you have chosen blue or green\")\n",
    "elif color == \"yellow\":\n",
    "    print(\"you chose yellow\")\n",
    "else:\n",
    "    print(\"other color\")"
   ]
  },
  {
   "cell_type": "markdown",
   "metadata": {},
   "source": [
    "\n",
    "### Loops\n",
    "\n",
    "* `while`, `for`, `break`, `continue`\n",
    "* `range([start,]stop[,step])`\n",
    "\n",
    "``` python\n",
    "for <var> in <set_of_values>: \n",
    "    <body>\n",
    "    if <condition>:\n",
    "        continue\n",
    "    <something_that_runs_if_condition_not_True>        \n",
    "```\n",
    "\n",
    "``` python    \n",
    "while <true_condition>:\n",
    "    <body>\n",
    "    if <another_condition>:\n",
    "        break    \n",
    "``` \n"
   ]
  },
  {
   "cell_type": "code",
   "execution_count": null,
   "metadata": {},
   "outputs": [],
   "source": [
    "for i in 3, 4, 5, 11:\n",
    "    print(i)"
   ]
  },
  {
   "cell_type": "code",
   "execution_count": null,
   "metadata": {},
   "outputs": [],
   "source": [
    "for i in range(5):\n",
    "    print(i)"
   ]
  },
  {
   "cell_type": "code",
   "execution_count": null,
   "metadata": {},
   "outputs": [],
   "source": [
    "for i in range(0, 5, 2):\n",
    "    print(i)"
   ]
  },
  {
   "cell_type": "code",
   "execution_count": null,
   "metadata": {},
   "outputs": [],
   "source": [
    "for i in range(4):"
   ]
  },
  {
   "cell_type": "code",
   "execution_count": null,
   "metadata": {},
   "outputs": [],
   "source": [
    "for i in range(4):\n",
    "    pass"
   ]
  }
 ],
 "metadata": {
  "kernelspec": {
   "display_name": "Python 3",
   "language": "python",
   "name": "python3"
  },
  "language_info": {
   "codemirror_mode": {
    "name": "ipython",
    "version": 3
   },
   "file_extension": ".py",
   "mimetype": "text/x-python",
   "name": "python",
   "nbconvert_exporter": "python",
   "pygments_lexer": "ipython3",
   "version": "3.7.6"
  }
 },
 "nbformat": 4,
 "nbformat_minor": 4
}
