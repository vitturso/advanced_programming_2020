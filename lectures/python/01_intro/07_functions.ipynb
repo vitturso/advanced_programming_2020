{
 "cells": [
  {
   "cell_type": "markdown",
   "metadata": {},
   "source": [
    "## Functions\n",
    "```python\n",
    "def function_name(arg1, arg2, arg3):\n",
    "    '''Documentation\n",
    "    eventually, on multiple\n",
    "    lines\n",
    "    aka docstring\n",
    "    '''\n",
    "    body\n",
    "```\n",
    "* `return` statement is optional\n",
    "* `return` you can return multiple elements returning a `tuple`\n",
    "```python\n",
    "    return a,b,c\n",
    "```"
   ]
  },
  {
   "cell_type": "code",
   "execution_count": null,
   "metadata": {},
   "outputs": [],
   "source": [
    "def hello(name):\n",
    "    \"\"\"prints 'hello' followed by the arg name\"\"\"\n",
    "    print(\"hello\", name)\n",
    "\n",
    "\n",
    "hello(\"alberto\")\n",
    "hello(name=\"alberto\")"
   ]
  },
  {
   "cell_type": "code",
   "execution_count": null,
   "metadata": {},
   "outputs": [],
   "source": [
    "def interactive_hello():\n",
    "    \"\"\"prompt the user for a name, then prints \"hello\" followed by the name\"\"\"\n",
    "    name = str(input(\"write your name\"))\n",
    "    print(\"hello\", name)\n",
    "\n",
    "\n",
    "interactive_hello()"
   ]
  },
  {
   "cell_type": "code",
   "execution_count": null,
   "metadata": {},
   "outputs": [],
   "source": [
    "def multi_hello(*names):\n",
    "    \"\"\"for each name in names print \"hello\" name\"\"\"\n",
    "    for i in names:\n",
    "        print(\"hello\", i)\n",
    "\n",
    "\n",
    "multi_hello(\"alberto\", \"luigi\", \"stefania\")"
   ]
  },
  {
   "cell_type": "code",
   "execution_count": null,
   "metadata": {},
   "outputs": [],
   "source": [
    "def dwim():\n",
    "    \"\"\"super complicated algorithm which returns value and error estimation\"\"\"\n",
    "    value = 42\n",
    "    error = 1e-9\n",
    "    return value, error\n",
    "\n",
    "\n",
    "v, e = dwim()\n",
    "print(v, e)"
   ]
  },
  {
   "cell_type": "markdown",
   "metadata": {},
   "source": [
    "### Keyword and positional arguments\n",
    "\n",
    "* keyword arguments are passed as a dictionary {key:value,...}\n",
    "* non-keyword arguments are called positional arguments\n",
    "* `*expression` must evaluate an iterable"
   ]
  },
  {
   "cell_type": "code",
   "execution_count": null,
   "metadata": {},
   "outputs": [],
   "source": [
    "def foo(*positional, **keywords):\n",
    "    print(\"Positional:\", positional, end=\"\\t\")\n",
    "    print(\"Keywords:\", keywords)"
   ]
  },
  {
   "cell_type": "code",
   "execution_count": null,
   "metadata": {},
   "outputs": [],
   "source": [
    "foo(\"1st\", \"2nd\", \"3rd\")"
   ]
  },
  {
   "cell_type": "code",
   "execution_count": null,
   "metadata": {},
   "outputs": [],
   "source": [
    "foo(par1=\"1st\", par2=\"2nd\", par3=\"3rd\")"
   ]
  },
  {
   "cell_type": "code",
   "execution_count": null,
   "metadata": {},
   "outputs": [],
   "source": [
    "foo(\"1st\", par2=\"2nd\", par3=\"3rd\")"
   ]
  },
  {
   "cell_type": "code",
   "execution_count": null,
   "metadata": {},
   "outputs": [],
   "source": [
    "foo(par1=\"1st_key\", *(\"tuple\", \"unpacking\"), par2=\"2nd_key\")"
   ]
  },
  {
   "cell_type": "code",
   "execution_count": null,
   "metadata": {},
   "outputs": [],
   "source": [
    "foo(par1=\"1st_key\", *[\"1st_pos\"], par2=\"2nd_key\", *[\"2st_pos\", \"3rd_pos\"])"
   ]
  },
  {
   "cell_type": "markdown",
   "metadata": {},
   "source": [
    "### Anonymous functions, aka lambda functions\n",
    "```python\n",
    "lambda arg1,arg2,arg3: expression\n",
    "```\n",
    "\n",
    "- any number of args, but only 1 expression that **returns** a value"
   ]
  },
  {
   "cell_type": "code",
   "execution_count": null,
   "metadata": {},
   "outputs": [],
   "source": [
    "d = {\"c\": 100, \"a\": 10, \"z\": 50}\n",
    "for k, v in sorted(d.items(), key=lambda x: x[1]):\n",
    "    print(k, v)"
   ]
  },
  {
   "cell_type": "markdown",
   "metadata": {},
   "source": [
    "###  functions are first-class objects\n",
    "First-class object is a program entity that can be:\n",
    "- created at runtime\n",
    "- assigned to a variable or element in a data structure\n",
    "- passed as an argument to a function\n",
    "- returned as the result of a function"
   ]
  },
  {
   "cell_type": "code",
   "execution_count": null,
   "metadata": {},
   "outputs": [],
   "source": [
    "def hello():\n",
    "    print(\"hello\")\n",
    "\n",
    "\n",
    "print(type(hello))\n",
    "\n",
    "a = hello\n",
    "a()"
   ]
  },
  {
   "cell_type": "markdown",
   "metadata": {},
   "source": [
    "### functions can use recursion"
   ]
  },
  {
   "cell_type": "code",
   "execution_count": null,
   "metadata": {},
   "outputs": [],
   "source": [
    "def factorial(n):\n",
    "    return 1 if n < 2 else n * factorial(n - 1)\n",
    "\n",
    "\n",
    "factorial(77)"
   ]
  },
  {
   "cell_type": "markdown",
   "metadata": {},
   "source": [
    "### args name in functions can be used as `keyword`"
   ]
  },
  {
   "cell_type": "code",
   "execution_count": null,
   "metadata": {},
   "outputs": [],
   "source": [
    "def abc(a, b, c):\n",
    "    for i in (\"a\", \"b\", \"c\"):\n",
    "        print(i, \"got\", eval(i))\n",
    "\n",
    "\n",
    "abc(\"to_a\", \"to_b\", \"to_c\")"
   ]
  },
  {
   "cell_type": "code",
   "execution_count": null,
   "metadata": {},
   "outputs": [],
   "source": [
    "abc(b=\"to_b\", c=\"to_c\", a=\"to_a\")"
   ]
  },
  {
   "cell_type": "markdown",
   "metadata": {},
   "source": [
    "###  if you want keyord-only arguments, put a `*` in the signature"
   ]
  },
  {
   "cell_type": "code",
   "execution_count": null,
   "metadata": {},
   "outputs": [],
   "source": [
    "def abc_keyword_only(*, a, b, c):\n",
    "    for i in (\"a\", \"b\", \"c\"):\n",
    "        print(i, \"got\", eval(i))\n",
    "\n",
    "\n",
    "# abc_keyword_only('to_a', 'to_b', 'to_c') # error\n",
    "abc_keyword_only(b=\"to_b\", c=\"to_c\", a=\"to_a\")"
   ]
  },
  {
   "cell_type": "markdown",
   "metadata": {},
   "source": [
    "### default values"
   ]
  },
  {
   "cell_type": "code",
   "execution_count": null,
   "metadata": {},
   "outputs": [],
   "source": [
    "def abc_with_default(a=\"default_a\", b=\"default_b\", c=\"default_c\"):\n",
    "    abc(a, b, c)\n",
    "\n",
    "\n",
    "abc_with_default(b=\"to_b\")"
   ]
  },
  {
   "cell_type": "markdown",
   "metadata": {},
   "source": [
    "### documentation"
   ]
  },
  {
   "cell_type": "code",
   "execution_count": null,
   "metadata": {},
   "outputs": [],
   "source": [
    "def foo():\n",
    "    \"\"\"\n",
    "    string documenting foo(). \n",
    "    accessible via help(foo)\n",
    "    \"\"\"\n",
    "    pass\n",
    "\n",
    "\n",
    "help(foo)"
   ]
  },
  {
   "cell_type": "markdown",
   "metadata": {},
   "source": [
    "### function annotations"
   ]
  },
  {
   "cell_type": "code",
   "execution_count": null,
   "metadata": {},
   "outputs": [],
   "source": [
    "def complicated_function(text: str, max_len: \"int>0\" = 80) -> str:\n",
    "    \"\"\"documentation for complicated_function\"\"\"\n",
    "    pass"
   ]
  },
  {
   "cell_type": "code",
   "execution_count": null,
   "metadata": {},
   "outputs": [],
   "source": [
    "help(complicated_function)"
   ]
  },
  {
   "cell_type": "markdown",
   "metadata": {},
   "source": [
    "###  much more"
   ]
  },
  {
   "cell_type": "code",
   "execution_count": null,
   "metadata": {},
   "outputs": [],
   "source": [
    "for i in dir(complicated_function):\n",
    "    print(i, \"is\", eval(\"complicated_function.\" + i))"
   ]
  }
 ],
 "metadata": {
  "kernelspec": {
   "display_name": "Python 3",
   "language": "python",
   "name": "python3"
  },
  "language_info": {
   "codemirror_mode": {
    "name": "ipython",
    "version": 3
   },
   "file_extension": ".py",
   "mimetype": "text/x-python",
   "name": "python",
   "nbconvert_exporter": "python",
   "pygments_lexer": "ipython3",
   "version": "3.7.6"
  }
 },
 "nbformat": 4,
 "nbformat_minor": 4
}
